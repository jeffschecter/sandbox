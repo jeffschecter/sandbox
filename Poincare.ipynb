{
 "cells": [
  {
   "cell_type": "code",
   "execution_count": 10,
   "metadata": {},
   "outputs": [],
   "source": [
    "import numpy as np\n",
    "import pandas as pd\n",
    "import torch\n",
    "\n",
    "%matplotlib inline\n",
    "from IPython import display\n",
    "from IPython.core.pylabtools import figsize\n",
    "from matplotlib import pyplot as plt"
   ]
  },
  {
   "cell_type": "code",
   "execution_count": 68,
   "metadata": {},
   "outputs": [],
   "source": [
    "def torch_or_numpy(fn_or_module_cls):\n",
    "    torch_fn = fn_or_module_cls()\n",
    "    def apply_fn(*args):\n",
    "        if isinstance(args[0], torch.Tensor):\n",
    "            return torch_fn(*args)\n",
    "        else:\n",
    "            return torch_fn(*[\n",
    "                torch.tensor(np.array(arg, np.float))\n",
    "                for arg in args]\n",
    "           ).detach().numpy()\n",
    "    return apply_fn\n",
    "\n",
    "\n",
    "class EuclideanMagnitude(torch.autograd.Function):\n",
    "    \n",
    "    def forward(self, x):\n",
    "        return torch.sqrt(torch.sum(x ** 2, -1))\n",
    "\n",
    "mag = torch_or_numpy(EuclideanMagnitude)\n",
    "\n",
    "\n",
    "class Dot(torch.autograd.Function):\n",
    "    \n",
    "    def forward(self, x, y):\n",
    "        return torch.sum(x * y, -1)\n",
    "    \n",
    "dot = torch_or_numpy(Dot)"
   ]
  },
  {
   "cell_type": "markdown",
   "metadata": {},
   "source": [
    "<img src=\"https://wikimedia.org/api/rest_v1/media/math/render/svg/aad0269ecc2abf70d7f2df4f2c1c9a4d33790583\">"
   ]
  },
  {
   "cell_type": "code",
   "execution_count": 72,
   "metadata": {},
   "outputs": [],
   "source": [
    "class PoincareDistance(torch.autograd.Function):\n",
    "    \n",
    "    def forward(self, u, v):\n",
    "        return 2 * torch.log(\n",
    "\n",
    "            # Numerator\n",
    "            (mag(u - v) +\n",
    "             torch.sqrt(\n",
    "                 (mag(u) ** 2) * (mag(v) ** 2) -\n",
    "                 2.0 * dot(u, v) +\n",
    "                 1.0)) /\n",
    "            \n",
    "            # Denominator\n",
    "            torch.sqrt(\n",
    "                (1.0 - (mag(u) ** 2)) *\n",
    "                (1.0 - (mag(v) ** 2))))\n",
    "\n",
    "pdist = torch_or_numpy(PoincareDistance)"
   ]
  },
  {
   "cell_type": "code",
   "execution_count": 112,
   "metadata": {},
   "outputs": [
    {
     "data": {
      "text/plain": [
       "array([  0.28475129,   0.58153858,   1.28230988,   5.28824152,\n",
       "         5.83878116,   6.50767676,  32.86559956])"
      ]
     },
     "execution_count": 112,
     "metadata": {},
     "output_type": "execute_result"
    }
   ],
   "source": [
    "pdist(\n",
    "    [[0.0, 0.0],\n",
    "     [0.0, 0.0],\n",
    "     [0.0, 0.0],\n",
    "     [0.0, 0.0],\n",
    "     [0.0, 0.0],\n",
    "     [0.0, 0.0],\n",
    "     [0.0, 0.0]],\n",
    "    [[0.1, 0.1],\n",
    "     [0.2, 0.2],\n",
    "     [0.4, 0.4],\n",
    "     [0.7, 0.7],\n",
    "     [0.703, 0.703],\n",
    "     [0.705, 0.705],\n",
    "     [0.70710678118654, 0.70710678118654]])"
   ]
  },
  {
   "cell_type": "code",
   "execution_count": 104,
   "metadata": {},
   "outputs": [
    {
     "data": {
      "text/plain": [
       "0.70710678118654746"
      ]
     },
     "execution_count": 104,
     "metadata": {},
     "output_type": "execute_result"
    }
   ],
   "source": [
    "1 / np.sqrt(2)"
   ]
  },
  {
   "cell_type": "code",
   "execution_count": null,
   "metadata": {},
   "outputs": [],
   "source": []
  }
 ],
 "metadata": {
  "kernelspec": {
   "display_name": "Python 2",
   "language": "python",
   "name": "python2"
  },
  "language_info": {
   "codemirror_mode": {
    "name": "ipython",
    "version": 2
   },
   "file_extension": ".py",
   "mimetype": "text/x-python",
   "name": "python",
   "nbconvert_exporter": "python",
   "pygments_lexer": "ipython2",
   "version": "2.7.10"
  }
 },
 "nbformat": 4,
 "nbformat_minor": 2
}

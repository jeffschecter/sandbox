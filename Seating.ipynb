{
 "cells": [
  {
   "cell_type": "code",
   "execution_count": 6,
   "metadata": {
    "collapsed": false
   },
   "outputs": [],
   "source": [
    "import numpy as np\n",
    "import pandas as pd\n",
    "\n",
    "from pyomo import environ as omo\n",
    "from sfa.optimize.base import OptimizerBase\n",
    "\n",
    "%matplotlib inline\n",
    "from IPython import display\n",
    "from IPython.core.pylabtools import figsize\n",
    "from seaborn import plt"
   ]
  },
  {
   "cell_type": "code",
   "execution_count": 87,
   "metadata": {
    "collapsed": false
   },
   "outputs": [],
   "source": [
    "tables = pd.DataFrame(\n",
    "    [[\"one\", 5, 1.0],\n",
    "     [\"two\", 5, 0.5],\n",
    "     [\"three\", 5, 0.25]],\n",
    "    columns=[\"name\", \"capacity\", \"desirability\"])\n",
    "\n",
    "guests = pd.DataFrame(\n",
    "    [[\"Steve\", [\"Nancy\"], \"Jeff Family\", \"60+\", \"guy\"],\n",
    "     [\"Nancy\", [\"Steve\"], \"Jeff Family\", \"60+\", \"girl\"],\n",
    "     [\"Erica\", [], \"Jeff Family\", \"30s\", \"girl\"],\n",
    "     [\"Gary\", [\"Jann\"], \"Beth Family\", \"60+\", \"guy\"],\n",
    "     [\"Jann\", [\"Gary\"], \"Beth Family\", \"60+\", \"girl\"],\n",
    "     [\"John\", [\"Whatsername\"], \"Beth Family\", \"20s\", \"guy\"],\n",
    "     [\"Whatsername\", [\"John\"], \"Misc. +1s\", \"20s\", \"girl\"],\n",
    "     [\"Matt\", [\"Steph\"], \"Beth Family\", \"30s\", \"guy\"],\n",
    "     [\"Steph\", [\"Matt\"], \"Beth Family\", \"30s\", \"girl\"],\n",
    "     [\"Ben\", [\"Annie\"], \"Jeff College\", \"20s\", \"guy\"],\n",
    "     [\"Annie\", [\"Ben\"], \"Jeff College\", \"20s\", \"girl\"],\n",
    "     [\"Max\", [\"Jenny\"], \"Jeff College\", \"20s\", \"guy\"],\n",
    "     [\"Jenny\", [\"Max\"], \"Misc +1s\", \"20s\", \"girl\"],\n",
    "     [\"Peter\", [\"Sav\"], \"Jeff Cali\", \"20s\", \"guy\"],\n",
    "     [\"Sav\", [\"Peter\"], \"Jeff Cali\", \"20s\", \"girl\"]\n",
    "    ],\n",
    "    columns=[\"name\", \"party\", \"cohort\", \"age\", \"gender\"])\n",
    "\n",
    "# Groups are assumed to have an affinity of +1 with themselves unless specified otherwise\n",
    "affinities = pd.DataFrame(\n",
    "    [[\"Jeff Family\", \"Jeff Family\", 0],\n",
    "     [\"Jeff Family\", \"Beth Family\", 1],\n",
    "     [\"Jeff Cali\", \"Jeff College\", 0.5],\n",
    "     [\"20s\", \"30s\", 0.5],\n",
    "     [\"20s\", \"60+\", -1],\n",
    "     [\"30s\", \"60+\", -0.5],\n",
    "     [\"girl\", \"girl\", 0.1]\n",
    "    ],\n",
    "    columns=[\"x\", \"y\", \"affinity\"])"
   ]
  },
  {
   "cell_type": "code",
   "execution_count": 167,
   "metadata": {
    "collapsed": false
   },
   "outputs": [],
   "source": [
    "def one_seat_per_guest(model, guest):\n",
    "    assigned_seats = [asg for asg in model.assignments]\n",
    "\n",
    "class SeatingModel(OptimizerBase):\n",
    "    \n",
    "    ADJACENT_CONNECTIVITY = 0.5\n",
    "    TABLE_CONNECTIVITY = 1.0\n",
    "    PARTY_STRENGTH = 1000.0\n",
    "    \n",
    "    def __init__(self, tables, guests, affinities):\n",
    "        self.class_name = \"SeatingModel\"\n",
    "        self._tables = tables\n",
    "        self._guests = guests\n",
    "        self._affinities = affinities\n",
    "\n",
    "        self._table_capacities = dict(zip(\n",
    "                self._tables.name, self._tables.capacity))\n",
    "        self._seats = []\n",
    "        self._connectivity = {}\n",
    "        self._pair_aff_dict = {}\n",
    "        \n",
    "        self._add_seats()\n",
    "        self._add_connectivity()\n",
    "        self._add_pair_affinities()\n",
    "        \n",
    "        self.model = None\n",
    "        \n",
    "    def _add_seats(self):\n",
    "        self._seats = sum(\n",
    "            [[(n, x) for x in np.arange(c)]\n",
    "             for n, c in zip(self._tables.name, self._tables.capacity)],\n",
    "            [])\n",
    "        \n",
    "    def _add_connectivity(self):\n",
    "        self._connectivity = {}\n",
    "        for x_table, x_seat in self._seats:\n",
    "            xname = \"{}-{}\".format(x_table, x_seat)\n",
    "            cap = self._table_capacities[x_table]\n",
    "            for y_table, y_seat in self._seats:\n",
    "                if (y_table != x_table) or (x_seat >= y_seat):\n",
    "                    continue\n",
    "                yname = \"{}-{}\".format(y_table, y_seat)\n",
    "                adjacent = (\n",
    "                    (x_seat == ((y_seat + 1) % cap)) or\n",
    "                    (x_seat == ((y_seat - 1) % cap)))\n",
    "                if adjacent:\n",
    "                    self._connectivity[(xname, yname)] = self.ADJACENT_CONNECTIVITY\n",
    "                else:\n",
    "                    self._connectivity[(xname, yname)] = self.TABLE_CONNECTIVITY\n",
    "                    \n",
    "    def _add_pair_affinities(self):\n",
    "        groups = set()\n",
    "        group_cols = set(self._guests.columns) - set([\"name\", \"party\"])\n",
    "        for col in group_cols:\n",
    "            for group in self._guests[col].unique():\n",
    "                groups.add(group)\n",
    "\n",
    "        group_aff_dict = {}\n",
    "        for group in groups:\n",
    "            group_aff_dict[group, group] = 1.0\n",
    "        for _, row in self._affinities.iterrows():\n",
    "            gpair = tuple(sorted((row.x, row.y)))\n",
    "            group_aff_dict[gpair] = float(row.affinity)\n",
    "        \n",
    "        self._pair_aff_dict = {}\n",
    "        for _, x in self._guests.iterrows():\n",
    "            x_groups = [x[col] for col in group_cols] + [x[\"name\"]]\n",
    "            for _, y in self._guests.iterrows():\n",
    "                if x[\"name\"] >= y[\"name\"]:\n",
    "                    continue\n",
    "                y_groups = [y[col] for col in group_cols] + [y[\"name\"]]\n",
    "                affinity = 0.0\n",
    "                if x[\"name\"] in y.party or y[\"name\"] in x.party:\n",
    "                    affinity += self.PARTY_STRENGTH\n",
    "                for x_group in x_groups:\n",
    "                    for y_group in y_groups:\n",
    "                        gpair = tuple(sorted((x_group, y_group)))\n",
    "                        affinity += group_aff_dict.get(gpair, 0.0)\n",
    "                self._pair_aff_dict[(x[\"name\"], y[\"name\"])] = affinity\n",
    "\n",
    "    def _add_indices(self):\n",
    "        model = self.model\n",
    "        model.guests = omo.Set(\n",
    "            initialize=self._guests.name)\n",
    "        model.seats = omo.Set(\n",
    "            initialize=[\"{}-{}\".format(n, x) for n, x in self._seats])\n",
    "        model.pairs = omo.Set(\n",
    "            initialize=self._pair_aff_dict.keys(),\n",
    "            within=model.guests * model.guests)\n",
    "        model.seatings = omo.Set(\n",
    "            initialize=model.guests * model.seats)\n",
    "        model.links = omo.Set(\n",
    "            initialize=self._connectivity.keys(),\n",
    "            within=model.seats * model.seats)\n",
    "\n",
    "    def _add_parameters(self):\n",
    "        model = self.model\n",
    "        model.connectivity = omo.Param(\n",
    "            model.links,\n",
    "            initialize=self._connectivity,\n",
    "            within=omo.NonNegativeReals)\n",
    "        model.affinities = omo.Param(\n",
    "            model.pairs,\n",
    "            initialize=self._pair_aff_dict,\n",
    "            default=0)\n",
    "\n",
    "    def _add_variables_and_objective(self):\n",
    "        \"\"\"Adds optimizeable variables and objective to the model.\n",
    "        \n",
    "        variables\n",
    "        assignments (bool indexed by seatings)\n",
    "        \n",
    "        constraints\n",
    "        sum of assignments across each guest = 1\n",
    "        sum of assignments across each seat = 1\n",
    "        \n",
    "        objective\n",
    "        total_reward = 0\n",
    "        For s1, s2 in links:\n",
    "            str = conn_str[s1, s2]\n",
    "            reward = 0\n",
    "            for g1, g2 in pairs:\n",
    "                p_aff = affinities[g1, g2]\n",
    "                seated = (assignments[g1, s1] * assignments[g2, s2]) + (assignments[g2, s1] * assignments[g1, s2])\n",
    "                reward += p_aff * seated\n",
    "            total_reward += str * reward\n",
    "\n",
    "        vars = tables * (cap + ((cap^2) / 2) * n_guest^2\n",
    "        \"\"\"\n",
    "        model = self.model\n",
    "        model.assignments = omo.Var(\n",
    "            model.seatings,\n",
    "            domain=omo.Binary)\n",
    "        \n",
    "        # Accumulate rewards\n",
    "        rewards = []\n",
    "        for s1, s2 in model.links:\n",
    "            con = model.connectivity[(s1, s2)]\n",
    "            for g1, g2 in model.pairs:\n",
    "                if g1 >= g2:\n",
    "                    continue\n",
    "                aff = model.affinities[(g1, g2)]\n",
    "                paired = (\n",
    "                    (model.assignments[g1, s2] * model.assignments[g2, s2]) +\n",
    "                    (model.assignments[g2, s2] * model.assignments[g1, s2]))\n",
    "                rewards.append(con * aff * paired)\n",
    "        rewards = [r for r in rewards if r is not 0]\n",
    "        self._rewards = rewards\n",
    "                \n",
    "        # Objective\n",
    "        model.objective = omo.Objective(\n",
    "            expr=sum(rewards),\n",
    "            rule=omo.maximize)\n",
    "\n",
    "    def _add_constraints(self):\n",
    "        \"\"\"Adds constraints to the model.\"\"\"\n",
    "        model = self.model\n",
    "        model.fully_seated = omo.Constraint(\n",
    "            model.guests,\n",
    "            rule=one_seat_per_guest)"
   ]
  },
  {
   "cell_type": "code",
   "execution_count": 168,
   "metadata": {
    "collapsed": true
   },
   "outputs": [],
   "source": [
    "foo = SeatingModel(tables, guests, affinities)"
   ]
  },
  {
   "cell_type": "code",
   "execution_count": 169,
   "metadata": {
    "collapsed": true
   },
   "outputs": [
    {
     "name": "stdout",
     "output_type": "stream",
     "text": [
      "ERROR: Rule failed when generating expression for objective objective:\n",
      "\tTypeError: 'int' object is not callable\n",
      "ERROR: Constructing component 'objective' from data=None failed:\n",
      "\tTypeError: 'int' object is not callable\n"
     ]
    },
    {
     "ename": "TypeError",
     "evalue": "'int' object is not callable",
     "output_type": "error",
     "traceback": [
      "\u001b[0;31m---------------------------------------------------------------------------\u001b[0m",
      "\u001b[0;31mTypeError\u001b[0m                                 Traceback (most recent call last)",
      "\u001b[0;32m<ipython-input-169-1153c37979fb>\u001b[0m in \u001b[0;36m<module>\u001b[0;34m()\u001b[0m\n\u001b[0;32m----> 1\u001b[0;31m \u001b[0mfoo\u001b[0m\u001b[0;34m.\u001b[0m\u001b[0m_build_model\u001b[0m\u001b[0;34m(\u001b[0m\u001b[0;34m)\u001b[0m\u001b[0;34m\u001b[0m\u001b[0m\n\u001b[0m",
      "\u001b[0;32m/Users/Jeff/Code/sfa/sfa/optimize/base.py\u001b[0m in \u001b[0;36m_build_model\u001b[0;34m(self)\u001b[0m\n\u001b[1;32m     39\u001b[0m         \u001b[0mself\u001b[0m\u001b[0;34m.\u001b[0m\u001b[0m_add_parameters\u001b[0m\u001b[0;34m(\u001b[0m\u001b[0;34m)\u001b[0m\u001b[0;34m\u001b[0m\u001b[0m\n\u001b[1;32m     40\u001b[0m         \u001b[0mLOG\u001b[0m\u001b[0;34m.\u001b[0m\u001b[0minfo\u001b[0m\u001b[0;34m(\u001b[0m\u001b[0;34m\"{}._add_variables_and_objective\"\u001b[0m\u001b[0;34m.\u001b[0m\u001b[0mformat\u001b[0m\u001b[0;34m(\u001b[0m\u001b[0mself\u001b[0m\u001b[0;34m.\u001b[0m\u001b[0mclass_name\u001b[0m\u001b[0;34m)\u001b[0m\u001b[0;34m)\u001b[0m\u001b[0;34m\u001b[0m\u001b[0m\n\u001b[0;32m---> 41\u001b[0;31m         \u001b[0mself\u001b[0m\u001b[0;34m.\u001b[0m\u001b[0m_add_variables_and_objective\u001b[0m\u001b[0;34m(\u001b[0m\u001b[0;34m)\u001b[0m\u001b[0;34m\u001b[0m\u001b[0m\n\u001b[0m\u001b[1;32m     42\u001b[0m         \u001b[0mLOG\u001b[0m\u001b[0;34m.\u001b[0m\u001b[0minfo\u001b[0m\u001b[0;34m(\u001b[0m\u001b[0;34m\"{}._add_constraints\"\u001b[0m\u001b[0;34m.\u001b[0m\u001b[0mformat\u001b[0m\u001b[0;34m(\u001b[0m\u001b[0mself\u001b[0m\u001b[0;34m.\u001b[0m\u001b[0mclass_name\u001b[0m\u001b[0;34m)\u001b[0m\u001b[0;34m)\u001b[0m\u001b[0;34m\u001b[0m\u001b[0m\n\u001b[1;32m     43\u001b[0m         \u001b[0mself\u001b[0m\u001b[0;34m.\u001b[0m\u001b[0m_add_constraints\u001b[0m\u001b[0;34m(\u001b[0m\u001b[0;34m)\u001b[0m\u001b[0;34m\u001b[0m\u001b[0m\n",
      "\u001b[0;32m<ipython-input-167-ea742d5adf72>\u001b[0m in \u001b[0;36m_add_variables_and_objective\u001b[0;34m(self)\u001b[0m\n\u001b[1;32m    151\u001b[0m         model.objective = omo.Objective(\n\u001b[1;32m    152\u001b[0m             \u001b[0mexpr\u001b[0m\u001b[0;34m=\u001b[0m\u001b[0msum\u001b[0m\u001b[0;34m(\u001b[0m\u001b[0mrewards\u001b[0m\u001b[0;34m)\u001b[0m\u001b[0;34m,\u001b[0m\u001b[0;34m\u001b[0m\u001b[0m\n\u001b[0;32m--> 153\u001b[0;31m             rule=omo.maximize)\n\u001b[0m\u001b[1;32m    154\u001b[0m \u001b[0;34m\u001b[0m\u001b[0m\n\u001b[1;32m    155\u001b[0m     \u001b[0;32mdef\u001b[0m \u001b[0m_add_constraints\u001b[0m\u001b[0;34m(\u001b[0m\u001b[0mself\u001b[0m\u001b[0;34m)\u001b[0m\u001b[0;34m:\u001b[0m\u001b[0;34m\u001b[0m\u001b[0m\n",
      "\u001b[0;32m/Library/Python/2.7/site-packages/pyomo/core/base/block.pyc\u001b[0m in \u001b[0;36m__setattr__\u001b[0;34m(self, name, val)\u001b[0m\n\u001b[1;32m    482\u001b[0m                 \u001b[0;31m# Pyomo components are added with the add_component method.\u001b[0m\u001b[0;34m\u001b[0m\u001b[0;34m\u001b[0m\u001b[0m\n\u001b[1;32m    483\u001b[0m                 \u001b[0;31m#\u001b[0m\u001b[0;34m\u001b[0m\u001b[0;34m\u001b[0m\u001b[0m\n\u001b[0;32m--> 484\u001b[0;31m                 \u001b[0mself\u001b[0m\u001b[0;34m.\u001b[0m\u001b[0madd_component\u001b[0m\u001b[0;34m(\u001b[0m\u001b[0mname\u001b[0m\u001b[0;34m,\u001b[0m \u001b[0mval\u001b[0m\u001b[0;34m)\u001b[0m\u001b[0;34m\u001b[0m\u001b[0m\n\u001b[0m\u001b[1;32m    485\u001b[0m             \u001b[0;32melse\u001b[0m\u001b[0;34m:\u001b[0m\u001b[0;34m\u001b[0m\u001b[0m\n\u001b[1;32m    486\u001b[0m                 \u001b[0;31m#\u001b[0m\u001b[0;34m\u001b[0m\u001b[0;34m\u001b[0m\u001b[0m\n",
      "\u001b[0;32m/Library/Python/2.7/site-packages/pyomo/core/base/block.pyc\u001b[0m in \u001b[0;36madd_component\u001b[0;34m(self, name, val)\u001b[0m\n\u001b[1;32m    888\u001b[0m                               _blockName, str(data) )\n\u001b[1;32m    889\u001b[0m             \u001b[0;32mtry\u001b[0m\u001b[0;34m:\u001b[0m\u001b[0;34m\u001b[0m\u001b[0m\n\u001b[0;32m--> 890\u001b[0;31m                 \u001b[0mval\u001b[0m\u001b[0;34m.\u001b[0m\u001b[0mconstruct\u001b[0m\u001b[0;34m(\u001b[0m\u001b[0mdata\u001b[0m\u001b[0;34m)\u001b[0m\u001b[0;34m\u001b[0m\u001b[0m\n\u001b[0m\u001b[1;32m    891\u001b[0m             \u001b[0;32mexcept\u001b[0m\u001b[0;34m:\u001b[0m\u001b[0;34m\u001b[0m\u001b[0m\n\u001b[1;32m    892\u001b[0m                 \u001b[0merr\u001b[0m \u001b[0;34m=\u001b[0m \u001b[0msys\u001b[0m\u001b[0;34m.\u001b[0m\u001b[0mexc_info\u001b[0m\u001b[0;34m(\u001b[0m\u001b[0;34m)\u001b[0m\u001b[0;34m[\u001b[0m\u001b[0;36m1\u001b[0m\u001b[0;34m]\u001b[0m\u001b[0;34m\u001b[0m\u001b[0m\n",
      "\u001b[0;32m/Library/Python/2.7/site-packages/pyomo/core/base/objective.pyc\u001b[0m in \u001b[0;36mconstruct\u001b[0;34m(self, data)\u001b[0m\n\u001b[1;32m    305\u001b[0m             \u001b[0;32melse\u001b[0m\u001b[0;34m:\u001b[0m\u001b[0;34m\u001b[0m\u001b[0m\n\u001b[1;32m    306\u001b[0m                 \u001b[0;32mtry\u001b[0m\u001b[0;34m:\u001b[0m\u001b[0;34m\u001b[0m\u001b[0m\n\u001b[0;32m--> 307\u001b[0;31m                     \u001b[0mtmp\u001b[0m \u001b[0;34m=\u001b[0m \u001b[0m_init_rule\u001b[0m\u001b[0;34m(\u001b[0m\u001b[0m_self_parent\u001b[0m\u001b[0;34m)\u001b[0m\u001b[0;34m\u001b[0m\u001b[0m\n\u001b[0m\u001b[1;32m    308\u001b[0m                 \u001b[0;32mexcept\u001b[0m \u001b[0mException\u001b[0m\u001b[0;34m:\u001b[0m\u001b[0;34m\u001b[0m\u001b[0m\n\u001b[1;32m    309\u001b[0m                     \u001b[0merr\u001b[0m \u001b[0;34m=\u001b[0m \u001b[0msys\u001b[0m\u001b[0;34m.\u001b[0m\u001b[0mexc_info\u001b[0m\u001b[0;34m(\u001b[0m\u001b[0;34m)\u001b[0m\u001b[0;34m[\u001b[0m\u001b[0;36m1\u001b[0m\u001b[0;34m]\u001b[0m\u001b[0;34m\u001b[0m\u001b[0m\n",
      "\u001b[0;31mTypeError\u001b[0m: 'int' object is not callable"
     ]
    }
   ],
   "source": [
    "foo._build_model()"
   ]
  },
  {
   "cell_type": "code",
   "execution_count": 170,
   "metadata": {
    "collapsed": false
   },
   "outputs": [
    {
     "data": {
      "text/plain": [
       "0"
      ]
     },
     "execution_count": 170,
     "metadata": {},
     "output_type": "execute_result"
    }
   ],
   "source": [
    "sum([r is 0 for r in foo._rewards])"
   ]
  },
  {
   "cell_type": "markdown",
   "metadata": {
    "collapsed": true
   },
   "source": [
    "#### indices\n",
    "- seats\n",
    "- guests\n",
    "- pairs (within guests * guests)\n",
    "- seatings (within guests * seats)\n",
    "- links (within seats * seats)\n",
    "\n",
    "#### parameters\n",
    "- connection strengths (float indexed by links)\n",
    "- affinities (float indexed by pairs)\n",
    "\n",
    "#### variables\n",
    "- assignments (bool indexed by seatings) \n",
    "\n",
    "#### constraints\n",
    "- sum of assignments across each guest = 1\n",
    "- sum of assignments across each seat = 1\n",
    "\n",
    "#### objective\n",
    "```\n",
    "total_reward = 0\n",
    "For s1, s2 in links:\n",
    "    str = conn_str[s1, s2]\n",
    "    reward = 0\n",
    "    for g1, g2 in pairs:\n",
    "        p_aff = affinities[g1, g2]\n",
    "        seated = (assignments[g1, s1] * assignments[g2, s2]) + (assignments[g2, s1] * assignments[g1, s2])\n",
    "        reward += p_aff * seated\n",
    "    total_reward += str * reward\n",
    "\n",
    "vars = tables * (cap + ((cap^2) / 2) * n_guest^2\n",
    "```\n",
    "\n"
   ]
  },
  {
   "cell_type": "code",
   "execution_count": 119,
   "metadata": {
    "collapsed": true
   },
   "outputs": [],
   "source": [
    "omo.RealInterval?"
   ]
  },
  {
   "cell_type": "code",
   "execution_count": null,
   "metadata": {
    "collapsed": true
   },
   "outputs": [],
   "source": []
  }
 ],
 "metadata": {
  "kernelspec": {
   "display_name": "Python 2",
   "language": "python",
   "name": "python2"
  },
  "language_info": {
   "codemirror_mode": {
    "name": "ipython",
    "version": 2
   },
   "file_extension": ".py",
   "mimetype": "text/x-python",
   "name": "python",
   "nbconvert_exporter": "python",
   "pygments_lexer": "ipython2",
   "version": "2.7.10"
  }
 },
 "nbformat": 4,
 "nbformat_minor": 0
}

{
 "cells": [
  {
   "cell_type": "code",
   "execution_count": 38,
   "metadata": {},
   "outputs": [],
   "source": [
    "import time\n",
    "\n",
    "import numpy as np\n",
    "\n",
    "%matplotlib inline\n",
    "from IPython.core.pylabtools import figsize\n",
    "from matplotlib import pyplot as plt\n",
    "import seaborn\n",
    "\n",
    "seaborn.set()"
   ]
  },
  {
   "cell_type": "code",
   "execution_count": 64,
   "metadata": {},
   "outputs": [],
   "source": [
    "N_CLI = 20 * 1000\n",
    "N_STY = 2 * 1000\n",
    "\n",
    "clients = np.random.normal(0, 1, size=(N_CLI, 10))\n",
    "stylists = np.random.normal(0, 1, size=(N_STY, 10))\n",
    "aff = np.matmul(stylists, clients.T)"
   ]
  },
  {
   "cell_type": "code",
   "execution_count": 65,
   "metadata": {},
   "outputs": [],
   "source": [
    "def place_bids(reward_matrix, prices):\n",
    "    bids = np.zeros_like(reward_matrix, dtype=np.int8)\n",
    "    rewards = reward_matrix - prices\n",
    "    for i in range(reward_matrix.shape[1]):\n",
    "        sty_index = i % reward_matrix.shape[0]\n",
    "        best_fix_index = np.argmax(rewards[sty_index])\n",
    "        bids[sty_index, best_fix_index] = 1\n",
    "        rewards[sty_index, best_fix_index] = -np.inf\n",
    "    return bids\n",
    "\n",
    "\n",
    "def shadow_prices(reward_matrix, niter=100, lr_decay_scale=10.0):\n",
    "    print \"Finding shadow prices for {} stylists x {} fixes\".format(\n",
    "        *reward_matrix.shape)\n",
    "    prices = np.ones(reward_matrix.shape[1])\n",
    "    mark = time.time()\n",
    "\n",
    "    for i in range(niter):\n",
    "        learn_rate = 1.0 / ((i / lr_decay_scale) + 2)\n",
    "        bids = place_bids(reward_matrix, prices)\n",
    "        price_gradient = 1.0 - bids.sum(axis=0)\n",
    "        prices = np.maximum(0, prices - learn_rate * price_gradient)\n",
    "        if (i + 1) % 10 == 0:\n",
    "            log_summary(mark, i, learn_rate, bids, prices)\n",
    "\n",
    "    return prices\n",
    "\n",
    "\n",
    "def log_summary(mark, i, learn_rate, bids, prices):\n",
    "    print \" \".join([\n",
    "        \"i={:03d}\".format(i + 1),\n",
    "        \"elapsed={:.1f}\".format(time.time() - mark),\n",
    "        \"lr={:.3f}\".format(learn_rate),\n",
    "        \"unwanted={:05d}\".format((bids.sum(axis=0) == 0).sum()),\n",
    "        \"avgprice={:.2f}\".format(np.mean(prices))])"
   ]
  },
  {
   "cell_type": "code",
   "execution_count": 66,
   "metadata": {},
   "outputs": [
    {
     "name": "stdout",
     "output_type": "stream",
     "text": [
      "Finding shadow prices for 2000 stylists x 20000 fixes\n",
      "i=010 elapsed=7.7 lr=0.345 unwanted=07572 avgprice=1.87\n",
      "i=020 elapsed=14.8 lr=0.256 unwanted=05291 avgprice=2.21\n",
      "i=030 elapsed=21.0 lr=0.204 unwanted=04258 avgprice=2.37\n",
      "i=040 elapsed=26.8 lr=0.169 unwanted=03585 avgprice=2.47\n",
      "i=050 elapsed=36.2 lr=0.145 unwanted=03173 avgprice=2.54\n",
      "i=060 elapsed=44.4 lr=0.127 unwanted=02819 avgprice=2.59\n",
      "i=070 elapsed=50.7 lr=0.112 unwanted=02544 avgprice=2.64\n",
      "i=080 elapsed=56.6 lr=0.101 unwanted=02383 avgprice=2.67\n",
      "i=090 elapsed=62.4 lr=0.092 unwanted=02180 avgprice=2.70\n",
      "i=100 elapsed=68.3 lr=0.084 unwanted=02049 avgprice=2.72\n",
      "i=110 elapsed=74.4 lr=0.078 unwanted=01969 avgprice=2.74\n",
      "i=120 elapsed=82.5 lr=0.072 unwanted=01859 avgprice=2.76\n",
      "i=130 elapsed=88.5 lr=0.067 unwanted=01750 avgprice=2.78\n",
      "i=140 elapsed=94.4 lr=0.063 unwanted=01673 avgprice=2.79\n",
      "i=150 elapsed=100.2 lr=0.059 unwanted=01628 avgprice=2.81\n",
      "i=160 elapsed=106.1 lr=0.056 unwanted=01583 avgprice=2.82\n",
      "i=170 elapsed=113.0 lr=0.053 unwanted=01521 avgprice=2.83\n",
      "i=180 elapsed=120.5 lr=0.050 unwanted=01454 avgprice=2.84\n",
      "i=190 elapsed=127.5 lr=0.048 unwanted=01426 avgprice=2.85\n",
      "i=200 elapsed=134.7 lr=0.046 unwanted=01371 avgprice=2.86\n",
      "i=210 elapsed=141.1 lr=0.044 unwanted=01366 avgprice=2.87\n",
      "i=220 elapsed=147.0 lr=0.042 unwanted=01323 avgprice=2.87\n",
      "i=230 elapsed=153.7 lr=0.040 unwanted=01285 avgprice=2.88\n",
      "i=240 elapsed=160.0 lr=0.039 unwanted=01276 avgprice=2.89\n",
      "i=250 elapsed=166.3 lr=0.037 unwanted=01246 avgprice=2.89\n",
      "i=260 elapsed=173.8 lr=0.036 unwanted=01207 avgprice=2.90\n",
      "i=270 elapsed=180.9 lr=0.035 unwanted=01189 avgprice=2.91\n",
      "i=280 elapsed=186.8 lr=0.033 unwanted=01160 avgprice=2.91\n",
      "i=290 elapsed=192.7 lr=0.032 unwanted=01139 avgprice=2.92\n",
      "i=300 elapsed=198.8 lr=0.031 unwanted=01091 avgprice=2.92\n"
     ]
    }
   ],
   "source": [
    "pshadow = shadow_prices(aff, niter=300)"
   ]
  },
  {
   "cell_type": "code",
   "execution_count": 72,
   "metadata": {},
   "outputs": [],
   "source": [
    "class DoublyIndexedAssignment(object):\n",
    "    \n",
    "    def __init__(self, n):\n",
    "        indices = np.arange(n)\n",
    "        np.random.shuffle(indices)\n",
    "        self.buyer_to_item = dict(zip(np.arange(n), indices))\n",
    "        self.item_to_buyer = dict(zip(indices, np.arange(n)))\n",
    "        \n",
    "    def switch(self, buyer_ix, item_ix):\n",
    "        bumped_buyer_ix = self.item_to_buyer[item_ix]\n",
    "        bumped_item_ix = self.buyer_to_item[buyer_ix]\n",
    "        \n",
    "        self.buyer_to_item[buyer_ix] = item_ix\n",
    "        self.item_to_buyer[item_ix] = buyer_ix\n",
    "        \n",
    "        self.buyer_to_item[bumped_buyer_ix] = bumped_item_ix\n",
    "        self.item_to_buyer[bumped_item_ix] = bumped_buyer_ix\n",
    "        \n",
    "        return bumped_buyer_ix, bumped_item_ix\n",
    "\n",
    "        \n",
    "def auction_prices(reward_matrix, eta=0.05, tol=0.99, prices=None):\n",
    "    mark = time.time()\n",
    "    n_buyer, n_item = reward_matrix.shape\n",
    "    if prices is None:\n",
    "        prices = np.zeros(n_item)\n",
    "    else:\n",
    "        prices = np.copy(prices)\n",
    "    happy = np.zeros(n_item, dtype=np.bool)\n",
    "    assignments = DoublyIndexedAssignment(n_item)\n",
    "    index = np.arange(n_item)\n",
    "    niter = 0\n",
    "    \n",
    "    for buyer_ix in index:\n",
    "        value = reward_matrix[buyer_ix % n_buyer] - prices\n",
    "        true_value = value[assignments.buyer_to_item[buyer_ix]]\n",
    "        if (value.max() - true_value) < eta:\n",
    "            happy[buyer_ix] = 1\n",
    "    \n",
    "    while np.mean(happy) < tol:\n",
    "        buyer_ix = np.random.choice(index[~happy])\n",
    "        value = reward_matrix[buyer_ix % n_buyer] - prices\n",
    "        best_value_ix, runner_up_value_ix = np.argpartition(\n",
    "            -value, 2)[:2]\n",
    "        \n",
    "        best_value = value[best_value_ix]\n",
    "        runner_up_value = value[runner_up_value_ix]\n",
    "        prices[best_value_ix] += eta + best_value - runner_up_value\n",
    "        \n",
    "        bumped_buyer_ix, bumped_item_ix = assignments.switch(\n",
    "            buyer_ix, best_value_ix)\n",
    "        happy[buyer_ix] = 1\n",
    "\n",
    "        bumped_value = reward_matrix[bumped_buyer_ix % n_buyer] - prices\n",
    "        bumped_best_value = np.max(bumped_value)\n",
    "        bumped_true_value = bumped_value[bumped_item_ix]\n",
    "        bumped_value_gap = bumped_best_value - bumped_true_value\n",
    "        happy[bumped_buyer_ix] = bumped_value_gap <= eta\n",
    "        \n",
    "        if niter % 10000 == 0:\n",
    "            print \"\".join(str(x) for x in [\n",
    "                \"i=\", niter,\n",
    "                \" elapsed=\", round((time.time() - mark), 1),\n",
    "                \" avgprice=\", np.mean(prices).round(2),\n",
    "                \" happy=\", np.mean(happy).round(4)])\n",
    "        niter += 1\n",
    "        \n",
    "    prices -= prices.min()\n",
    "    return prices\n",
    "\n",
    "\n",
    "def eta_scaling(reward_matrix, eta_zero=1.0, niter=5, scale_factor=2.0):\n",
    "    prices = None\n",
    "    eta = np.copy(eta_zero)\n",
    "    mark = time.time()\n",
    "    \n",
    "    for i in range(niter):\n",
    "        print \"\\n --- Scaling iteration\", i, \"eta =\", round(eta, 5)\n",
    "        tol = 1.0 if i == (niter - 1) else 0.99\n",
    "        prices = auction_prices(\n",
    "            reward_matrix,\n",
    "            eta=eta,\n",
    "            tol=tol,\n",
    "            prices=prices)\n",
    "        eta /= scale_factor\n",
    "    \n",
    "    print \"\\n completed in {:.1f} seconds\".format(time.time() - mark)\n",
    "    return prices"
   ]
  },
  {
   "cell_type": "code",
   "execution_count": 73,
   "metadata": {},
   "outputs": [
    {
     "name": "stdout",
     "output_type": "stream",
     "text": [
      "\n",
      " --- Scaling iteration 0 eta = 1.0\n",
      "i=0 elapsed=0.7 avgprice=0.0 happy=0.0002\n",
      "i=10000 elapsed=3.8 avgprice=0.64 happy=0.3206\n",
      "i=20000 elapsed=7.7 avgprice=1.21 happy=0.5413\n",
      "i=30000 elapsed=11.3 avgprice=1.77 happy=0.7054\n",
      "i=40000 elapsed=14.5 avgprice=2.32 happy=0.8244\n",
      "i=50000 elapsed=17.2 avgprice=2.86 happy=0.9096\n",
      "i=60000 elapsed=19.5 avgprice=3.4 happy=0.9648\n",
      "\n",
      " --- Scaling iteration 1 eta = 0.31623\n",
      "i=0 elapsed=0.7 avgprice=3.89 happy=0.0004\n",
      "i=10000 elapsed=3.9 avgprice=4.09 happy=0.4274\n",
      "i=20000 elapsed=7.6 avgprice=4.27 happy=0.67\n",
      "i=30000 elapsed=10.9 avgprice=4.44 happy=0.8431\n",
      "i=40000 elapsed=13.4 avgprice=4.62 happy=0.9488\n",
      "i=50000 elapsed=15.5 avgprice=4.79 happy=0.9884\n",
      "\n",
      " --- Scaling iteration 2 eta = 0.1\n",
      "i=0 elapsed=0.7 avgprice=4.47 happy=0.0001\n",
      "i=10000 elapsed=3.9 avgprice=4.53 happy=0.4314\n",
      "i=20000 elapsed=7.6 avgprice=4.59 happy=0.6806\n",
      "i=30000 elapsed=10.8 avgprice=4.65 happy=0.85\n",
      "i=40000 elapsed=13.3 avgprice=4.7 happy=0.9424\n",
      "i=50000 elapsed=15.4 avgprice=4.76 happy=0.98\n",
      "\n",
      " --- Scaling iteration 3 eta = 0.03162\n",
      "i=0 elapsed=0.7 avgprice=4.55 happy=0.0002\n",
      "i=10000 elapsed=3.8 avgprice=4.57 happy=0.4332\n",
      "i=20000 elapsed=7.6 avgprice=4.58 happy=0.6868\n",
      "i=30000 elapsed=10.8 avgprice=4.6 happy=0.8668\n",
      "i=40000 elapsed=13.2 avgprice=4.62 happy=0.9575\n",
      "i=50000 elapsed=15.3 avgprice=4.64 happy=0.9836\n",
      "\n",
      " --- Scaling iteration 4 eta = 0.01\n",
      "i=0 elapsed=0.8 avgprice=4.6 happy=0.0004\n",
      "i=10000 elapsed=4.6 avgprice=4.61 happy=0.4308\n",
      "i=20000 elapsed=8.9 avgprice=4.62 happy=0.6906\n",
      "i=30000 elapsed=13.9 avgprice=4.62 happy=0.875\n",
      "i=40000 elapsed=16.6 avgprice=4.63 happy=0.9689\n",
      "i=50000 elapsed=18.8 avgprice=4.63 happy=0.9883\n",
      "i=60000 elapsed=20.7 avgprice=4.64 happy=0.9948\n",
      "i=70000 elapsed=22.7 avgprice=4.64 happy=0.9979\n",
      "i=80000 elapsed=24.6 avgprice=4.65 happy=0.9988\n",
      "i=90000 elapsed=26.4 avgprice=4.66 happy=0.9994\n",
      "i=100000 elapsed=28.2 avgprice=4.66 happy=0.9996\n",
      "i=110000 elapsed=30.1 avgprice=4.67 happy=0.9996\n",
      "i=120000 elapsed=32.1 avgprice=4.67 happy=0.9998\n",
      "i=130000 elapsed=34.3 avgprice=4.68 happy=0.9999\n",
      "i=140000 elapsed=36.2 avgprice=4.68 happy=0.9999\n",
      "i=150000 elapsed=38.9 avgprice=4.69 happy=0.9999\n",
      "i=160000 elapsed=41.3 avgprice=4.69 happy=1.0\n",
      "i=170000 elapsed=43.1 avgprice=4.7 happy=1.0\n",
      "i=180000 elapsed=44.9 avgprice=4.71 happy=1.0\n",
      "i=190000 elapsed=46.7 avgprice=4.71 happy=1.0\n",
      "i=200000 elapsed=48.5 avgprice=4.72 happy=1.0\n",
      "i=210000 elapsed=50.6 avgprice=4.72 happy=1.0\n",
      "\n",
      " completed in 121.8 seconds\n"
     ]
    }
   ],
   "source": [
    "pauction = eta_scaling(aff, eta_zero=1.0, niter=5, scale_factor=np.sqrt(10))"
   ]
  },
  {
   "cell_type": "code",
   "execution_count": 74,
   "metadata": {},
   "outputs": [
    {
     "data": {
      "image/png": "[encoded data removed]",
      "text/plain": [
       "<matplotlib.figure.Figure at 0x11757a4d0>"
      ]
     },
     "metadata": {},
     "output_type": "display_data"
    }
   ],
   "source": [
    "figsize(6, 4)\n",
    "plt.scatter(pshadow, pauction, alpha = 0.1)\n",
    "plt.xlabel(\"shadow\")\n",
    "plt.ylabel(\"auction\")\n",
    "plt.show()"
   ]
  },
  {
   "cell_type": "code",
   "execution_count": 75,
   "metadata": {},
   "outputs": [
    {
     "data": {
      "image/png": "[encoded data removed]",
      "text/plain": [
       "<matplotlib.figure.Figure at 0x1172b4a50>"
      ]
     },
     "metadata": {},
     "output_type": "display_data"
    }
   ],
   "source": [
    "plt.hist(pauction, bins=np.arange(0, 15, 0.1))\n",
    "plt.show()"
   ]
  },
  {
   "cell_type": "code",
   "execution_count": null,
   "metadata": {},
   "outputs": [],
   "source": []
  }
 ],
 "metadata": {
  "kernelspec": {
   "display_name": "Python 2",
   "language": "python",
   "name": "python2"
  },
  "language_info": {
   "codemirror_mode": {
    "name": "ipython",
    "version": 2
   },
   "file_extension": ".py",
   "mimetype": "text/x-python",
   "name": "python",
   "nbconvert_exporter": "python",
   "pygments_lexer": "ipython2",
   "version": "2.7.10"
  }
 },
 "nbformat": 4,
 "nbformat_minor": 1
}
